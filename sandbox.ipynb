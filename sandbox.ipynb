{
 "cells": [
  {
   "cell_type": "code",
   "execution_count": 1,
   "metadata": {
    "collapsed": true
   },
   "outputs": [],
   "source": [
    "import json"
   ]
  },
  {
   "cell_type": "code",
   "execution_count": 20,
   "metadata": {
    "collapsed": true
   },
   "outputs": [],
   "source": [
    "f_label = 'data/train1a/20090913/000/dstc.labels.json'\n",
    "f_log = 'data/train1a/20090913/000/dstc.log.json'\n",
    "j_labels = json.load(open(f_label))\n",
    "j_log = json.load(open(f_log))"
   ]
  },
  {
   "cell_type": "code",
   "execution_count": 21,
   "metadata": {},
   "outputs": [
    {
     "name": "stdout",
     "output_type": "stream",
     "text": [
      "turn 0\n",
      "from.desc south\n",
      "from.desc federal\n",
      "from.desc ross\n",
      "route f\n",
      "from.neighborhood town\n",
      "from.desc elm\n",
      "from.desc grant\n",
      "from.desc dynamo\n",
      "from.desc craig\n",
      "time.hour 9\n",
      "from.desc penn\n",
      "from.desc rocks\n",
      "route r\n",
      "route 5a\n",
      "from.neighborhood pine\n",
      "route e\n",
      "from.desc pioneer\n",
      "plan a route\n"
     ]
    }
   ],
   "source": [
    "sess_id = j_label['session-id']\n",
    "turns = jd['turns']\n",
    "for d in turns:\n",
    "    transcription_status = d['transcription-status']\n",
    "    turn = d['turn-index']\n",
    "    print('turn', turn)\n",
    "    slu_labels = d['slu-labels']\n",
    "    for slu in slu_labels:\n",
    "        sys_specific = slu['system-specific']\n",
    "        source = slu['source']\n",
    "        slots = slu['slots']\n",
    "        for s_key, s_val in slots.items():\n",
    "            print(s_key, s_val)\n",
    "        label = slu['label'] # indicates correctness of this dialog act\n",
    "    transcription = d['transcription']\n",
    "    print(transcription)\n",
    "    break"
   ]
  },
  {
   "cell_type": "code",
   "execution_count": 22,
   "metadata": {},
   "outputs": [
    {
     "data": {
      "text/plain": [
       "34"
      ]
     },
     "execution_count": 22,
     "metadata": {},
     "output_type": "execute_result"
    }
   ],
   "source": [
    "len(turns)"
   ]
  },
  {
   "cell_type": "code",
   "execution_count": 31,
   "metadata": {},
   "outputs": [
    {
     "name": "stdout",
     "output_type": "stream",
     "text": [
      "dict_keys(['input', 'output', 'restart', 'system-specific', 'turn-index'])\n",
      "act hello\n",
      "slots []\n",
      "act example\n",
      "slots [['act', 'help']]\n",
      "act open-request\n",
      "slots []\n",
      "dict_keys(['input', 'output', 'restart', 'system-specific', 'turn-index'])\n",
      "act expl-conf\n",
      "slots [['from.desc', 'dynamo']]\n",
      "dict_keys(['input', 'output', 'restart', 'system-specific', 'turn-index'])\n",
      "act expl-conf\n",
      "slots [['from.desc', 'dynamo']]\n",
      "dict_keys(['input', 'output', 'restart', 'system-specific', 'turn-index'])\n",
      "act open-request\n",
      "slots []\n",
      "dict_keys(['input', 'output', 'restart', 'system-specific', 'turn-index'])\n",
      "act expl-conf\n",
      "slots [['route', '5a']]\n",
      "dict_keys(['input', 'output', 'restart', 'system-specific', 'turn-index'])\n",
      "act expl-conf\n",
      "slots [['route', '5a']]\n",
      "dict_keys(['input', 'output', 'restart', 'system-specific', 'turn-index'])\n",
      "act open-request\n",
      "slots []\n",
      "dict_keys(['input', 'output', 'restart', 'system-specific', 'turn-index'])\n",
      "act example\n",
      "slots [['time.rel', 'next'], ['route', '28X'], ['from.neighborhood', 'downtown'], ['to.monument', 'the airport']]\n",
      "act example\n",
      "slots [['from.neighborhood', 'mckeesport'], ['to.neighborhood', 'homestead'], ['date.day', 'tomorrow'], ['time.hour', 10], ['time.minute', 0], ['time.ampm', 'am']]\n",
      "dict_keys(['input', 'output', 'restart', 'system-specific', 'turn-index'])\n",
      "act request\n",
      "slots [['from', None]]\n",
      "dict_keys(['input', 'output', 'restart', 'system-specific', 'turn-index'])\n",
      "act expl-conf\n",
      "slots [['from.desc', 'sarah large']]\n",
      "dict_keys(['input', 'output', 'restart', 'system-specific', 'turn-index'])\n",
      "act ack\n",
      "slots []\n",
      "act example\n",
      "slots [['from.neighborhood', 'downtown']]\n",
      "act example\n",
      "slots [['from.neighborhood', 'oakland']]\n",
      "act example\n",
      "slots [['from.neighborhood', 'shadyside']]\n",
      "act example\n",
      "slots [['from.neighborhood', 'squirrel hill']]\n",
      "act example\n",
      "slots [['from.neighborhood', 'homestead']]\n",
      "act example\n",
      "slots [['from.neighborhood', 'mckeesport']]\n",
      "act example\n",
      "slots [['from.neighborhood', 'airport']]\n",
      "act canthelp.uncovered_stop\n",
      "slots [['from.desc', 'sarah large']]\n",
      "dict_keys(['input', 'output', 'restart', 'system-specific', 'turn-index'])\n",
      "act request\n",
      "slots [['from', None]]\n",
      "dict_keys(['input', 'output', 'restart', 'system-specific', 'turn-index'])\n",
      "act expl-conf\n",
      "slots [['from.desc', 'south']]\n",
      "dict_keys(['input', 'output', 'restart', 'system-specific', 'turn-index'])\n",
      "act ack\n",
      "slots []\n",
      "act request\n",
      "slots [['to', None]]\n",
      "dict_keys(['input', 'output', 'restart', 'system-specific', 'turn-index'])\n",
      "act expl-conf\n",
      "slots [['from.desc', 'wall']]\n",
      "dict_keys(['input', 'output', 'restart', 'system-specific', 'turn-index'])\n",
      "act ack\n",
      "slots []\n",
      "act request\n",
      "slots [['to', None]]\n",
      "dict_keys(['input', 'output', 'restart', 'system-specific', 'turn-index'])\n",
      "act expl-conf\n",
      "slots [['to.desc', 'highland']]\n",
      "dict_keys(['input', 'output', 'restart', 'system-specific', 'turn-index'])\n",
      "act ack\n",
      "slots []\n",
      "act request\n",
      "slots [['time', None]]\n",
      "dict_keys(['input', 'output', 'restart', 'system-specific', 'turn-index'])\n",
      "act request\n",
      "slots [['time', None]]\n",
      "dict_keys(['input', 'output', 'restart', 'system-specific', 'turn-index'])\n",
      "act request\n",
      "slots [['time', None]]\n",
      "dict_keys(['input', 'output', 'restart', 'system-specific', 'turn-index'])\n",
      "act impl-conf\n",
      "slots [['time.arriveleave', 'leave'], ['time.hour', 7], ['time.minute', 0], ['time.ampm', 'pm']]\n",
      "act hold-on\n",
      "slots []\n",
      "act canthelp.from_equals_to\n",
      "slots [['from.desc', 'south'], ['to.desc', 'highland']]\n",
      "act example\n",
      "slots [['act', 'restart']]\n",
      "dict_keys(['input', 'output', 'restart', 'system-specific', 'turn-index'])\n",
      "act example\n",
      "slots [['act', 'restart']]\n",
      "dict_keys(['input', 'output', 'restart', 'system-specific', 'turn-index'])\n",
      "act restart\n",
      "slots []\n",
      "act open-request\n",
      "slots []\n",
      "dict_keys(['input', 'output', 'restart', 'system-specific', 'turn-index'])\n",
      "act expl-conf\n",
      "slots [['from.desc', 'penn ave']]\n",
      "dict_keys(['input', 'output', 'restart', 'system-specific', 'turn-index'])\n",
      "act ack\n",
      "slots []\n",
      "act request\n",
      "slots [['to', None]]\n",
      "dict_keys(['input', 'output', 'restart', 'system-specific', 'turn-index'])\n",
      "act expl-conf\n",
      "slots [['to.desc', 'penn']]\n",
      "dict_keys(['input', 'output', 'restart', 'system-specific', 'turn-index'])\n",
      "act ack\n",
      "slots []\n",
      "act request\n",
      "slots [['time', None]]\n",
      "dict_keys(['input', 'output', 'restart', 'system-specific', 'turn-index'])\n",
      "act impl-conf\n",
      "slots [['time.arriveleave', 'leave'], ['time.hour', 7], ['time.minute', 0], ['time.ampm', 'pm']]\n",
      "act hold-on\n",
      "slots []\n",
      "act canthelp.from_equals_to\n",
      "slots [['from.desc', 'penn ave'], ['to.desc', 'penn']]\n",
      "act example\n",
      "slots [['act', 'restart']]\n",
      "dict_keys(['input', 'output', 'restart', 'system-specific', 'turn-index'])\n",
      "act example\n",
      "slots [['act', 'restart']]\n",
      "dict_keys(['input', 'output', 'restart', 'system-specific', 'turn-index'])\n",
      "act restart\n",
      "slots []\n",
      "act open-request\n",
      "slots []\n",
      "dict_keys(['input', 'output', 'restart', 'system-specific', 'turn-index'])\n",
      "act expl-conf\n",
      "slots [['from.desc', 'penn']]\n",
      "dict_keys(['input', 'output', 'restart', 'system-specific', 'turn-index'])\n",
      "act ack\n",
      "slots []\n",
      "act request\n",
      "slots [['to', None]]\n",
      "dict_keys(['input', 'output', 'restart', 'system-specific', 'turn-index'])\n",
      "act expl-conf\n",
      "slots [['to.desc', 'highland']]\n",
      "dict_keys(['input', 'output', 'restart', 'system-specific', 'turn-index'])\n",
      "act ack\n",
      "slots []\n",
      "act request\n",
      "slots [['time', None]]\n"
     ]
    }
   ],
   "source": [
    "s_turns = j_log['turns']\n",
    "len(s_turns)\n",
    "for d in s_turns:\n",
    "    print(d.keys())\n",
    "    turn = d['turn-index']\n",
    "    output = d['output']\n",
    "    dialog_acts = output['dialog-acts']\n",
    "    for dialog_act in dialog_acts:\n",
    "        print('act', dialog_act['act'])\n",
    "        print('slots', dialog_act['slots'])"
   ]
  },
  {
   "cell_type": "code",
   "execution_count": null,
   "metadata": {
    "collapsed": true
   },
   "outputs": [],
   "source": []
  }
 ],
 "metadata": {
  "kernelspec": {
   "display_name": "Python 3",
   "language": "python",
   "name": "python3"
  },
  "language_info": {
   "codemirror_mode": {
    "name": "ipython",
    "version": 3
   },
   "file_extension": ".py",
   "mimetype": "text/x-python",
   "name": "python",
   "nbconvert_exporter": "python",
   "pygments_lexer": "ipython3",
   "version": "3.6.1"
  }
 },
 "nbformat": 4,
 "nbformat_minor": 2
}
